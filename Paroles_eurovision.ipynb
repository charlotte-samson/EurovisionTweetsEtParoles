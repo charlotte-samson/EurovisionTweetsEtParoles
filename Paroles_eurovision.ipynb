{
 "cells": [
  {
   "cell_type": "code",
   "execution_count": 73,
   "metadata": {},
   "outputs": [],
   "source": [
    "from collections import defaultdict\n",
    "import os             \n",
    "import csv"
   ]
  },
  {
   "cell_type": "code",
   "execution_count": 86,
   "metadata": {},
   "outputs": [
    {
     "name": "stdout",
     "output_type": "stream",
     "text": [
      "10\n"
     ]
    }
   ],
   "source": [
    "all_files = os.listdir(\"./Paroles/\")\n",
    "words=[]\n",
    "print(len(all_files))\n",
    "for file in all_files : \n",
    "    with open(\"./Paroles/\"+file, \"r\", encoding='utf8') as file:\n",
    "        for elt in file.read().strip(\"\\ufeff\").lower().split() :\n",
    "            elt=elt.strip(\",.()?!\")\n",
    "            elt=elt.strip('\"')\n",
    "            words.append(elt)"
   ]
  },
  {
   "cell_type": "code",
   "execution_count": 87,
   "metadata": {},
   "outputs": [],
   "source": [
    "word2nb=defaultdict(int)\n",
    "for word in words : \n",
    "    word2nb[word]+=1"
   ]
  },
  {
   "cell_type": "code",
   "execution_count": 88,
   "metadata": {},
   "outputs": [
    {
     "name": "stdout",
     "output_type": "stream",
     "text": [
      "[('i', 110), ('you', 83), ('the', 65), (\"i'm\", 64), ('a', 54), ('me', 42), ('we', 38), ('and', 37), ('to', 36), ('your', 36), ('love', 33), ('of', 27), ('in', 25), ('it', 24), ('my', 24), ('how', 23), ('not', 21), ('all', 19), ('heroes', 19), ('can', 18), ('oh', 18), ('many', 17), ('us', 17), ('go', 17), ('only', 17), (\"we're\", 17), ('for', 17), ('running', 17), ('toy', 17), ('like', 16), (\"don't\", 16), ('times', 16), ('scared', 16), ('is', 14), ('but', 14), ('tell', 13), ('now', 13), ('our', 13), ('got', 12), ('know', 12), ('on', 12), ('believe', 12), ('tonight', 12), ('time', 12), ('with', 12), ('teardrops', 12), ('between', 12), (\"i'll\", 11), (\"'cause\", 11), ('are', 11), ('about', 11), ('breathing', 10), ('just', 10), ('do', 10), ('euphoria', 10), (\"can't\", 10), ('dancing', 10), ('were', 9), ('boy', 9), ('if', 9), ('going', 9), ('without', 9), ('no', 9), ('make', 9), ('come', 9), ('hey', 9), ('be', 8), ('what', 8), ('why', 8), ('an', 8), ('have', 8), ('minute', 8), ('kulului', 8), ('ah', 8), ('when', 7), ('even', 7), ('keep', 7), ('as', 7), ('out', 7), ('forever', 7), ('ever', 7), ('u-u-u-u-u-u-up', 7), ('once', 7), ('demons', 7), ('rise', 7), (\"you're\", 7), ('stupid', 7), ('left', 6), ('carried', 6), ('game', 6), ('ooh', 6), ('take', 6), ('need', 6), ('get', 6), ('this', 6), ('around', 6), ('into', 6), ('lose', 6), ('sing', 6), ('minds', 6), ('other', 6), ('phoenix', 6), ('coz', 6), ('adore', 6), ('way', 6), ('ree', 6), ('ouch', 6), ('hm', 6), ('la', 6), ('pam', 6), ('baka-bakum', 6), ('bak-bak', 6), ('bakumbai', 6), ('losing', 5), ('gonna', 5), ('break', 5), ('will', 5), ('something', 5), ('else', 5), ('down', 5), ('more', 5), ('from', 5), ('was', 5), (\"it's\", 5), ('care', 5), ('right', 5), ('at', 5), ('fight', 5), ('gotta', 5), ('feel', 5), ('heart', 4), ('fall', 4), ('light', 4), ('within', 4), ('today', 4), ('there', 4), ('nothing', 4), ('stop', 4), ('that', 4), ('turn', 4), ('every', 4), ('higher', 4), ('day', 4), ('night', 4), ('could', 4), ('life', 4), ('say', 4), ('eye', 4), ('so', 4), ('look', 4), ('win', 4), ('rules', 4), ('till', 4), (\"what's\", 4), (\"wouldn't\", 4), ('than', 4), ('did', 4), ('god', 4), ('satellite', 4), ('pa', 4), ('hoo', 4), ('home', 3), ('mind', 3), ('please', 3), ('carry', 3), ('loving', 3), ('up', 3), ('end', 3), ('off', 3), ('sky', 3), ('alone', 3), ('never', 3), ('long', 3), ('limit', 3), ('dream', 3), ('mission', 3), ('climbing', 3), ('everlasting', 3), ('piece', 3), ('art', 3), ('beating', 3), ('together', 3), ('fairytale', 3), ('true', 3), ('one', 3), ('apart', 3), ('hummingbird', 3), ('greatest', 3), ('anthem', 3), ('heard', 3), ('fly', 3), ('ashes', 3), ('seeking', 3), ('rather', 3), ('vengeance', 3), ('retribution', 3), ('warned', 3), ('transformed', 3), ('reborn', 3), ('orbit', 3), ('would', 3), ('play', 3), ('watch', 3), ('dolls', 3), ('madabaka', 3), ('beat', 3), ('arcade', 2), (\"that's\", 2), ('still', 2), ('lost', 2), ('ringing', 2), ('inside', 2), (\"i've\", 2), ('saved', 2), ('over', 2), (\"nothing's\", 2), ('or', 2), ('impossible', 2), ('world', 2), ('fire', 2), ('open', 2), ('door', 2), ('see', 2), ('believing', 2), ('doing', 2), (\"'til\", 2), ('here', 2), ('free', 2), ('where', 2), ('sail', 2), ('infinity', 2), ('reaching', 2), ('divinity', 2), ('then', 2), ('though', 2), ('hurts', 2), ('already', 2), ('cursed', 2), ('fell', 2), (\"we'll\", 2), ('new', 2), ('has', 2), (\"let's\", 2), ('hero', 2), ('he', 2), ('said', 2), ('behind', 2), ('tear', 2), ('each', 2), ('hard', 2), ('ourselves', 2), ('blame', 2), ('such', 2), ('shame', 2), ('leave', 2), ('fading', 2), ('flame', 2), ('baby', 2), (\"there's\", 2), ('away', 2), ('blue', 2), ('aim', 2), ('straight', 2), (\"cupid's\", 2), ('arrow', 2), ('painted', 2), ('toe', 2), ('nails', 2), ('follow', 2), ('beautiful', 2), ('creature', 2), ('modern', 2), ('preacher', 2), ('turram', 2), ('wonder', 2), ('woman', 2), ('forget', 2), ('divine', 2), (\"he's\", 2), ('regret', 2), ('his', 2), ('broken', 1), ('fixing', 1), ('cracks', 1), ('couple', 1), ('pieces', 1), ('afraid', 1), ('am', 1), ('feels', 1), ('foreign', 1), ('land', 1), ('silence', 1), ('head', 1), ('spent', 1), ('always', 1), ('small-town', 1), ('big', 1), ('addicted', 1), ('pennies', 1), ('slot', 1), ('giving', 1), (\"didn't\", 1), ('lot', 1), ('saw', 1), ('before', 1), ('begun', 1), ('games', 1), ('rollercoaster', 1), ('thunder', 1), ('storm', 1), ('begins', 1), ('standing', 1), ('strong', 1), ('tree', 1), ('wind', 1), ('move', 1), ('mountain', 1), ('change', 1), ('direction', 1), ('falling', 1), ('courage', 1), ('dim', 1), ('tries', 1), ('pull', 1), ('try', 1), (\"won't\", 1), ('let', 1), ('them', 1), ('put', 1), ('yes', 1), ('unthinkable', 1), ('reality', 1), ('moment', 1), ('last', 1), (\"eternity's\", 1), ('things', 1), ('breath', 1), ('universe', 1), (\"everything's\", 1), ('allowed', 1), ('comes', 1), ('first', 1), ('years', 1), ('ago', 1), ('younger', 1), ('kind', 1), ('liked', 1), ('girl', 1), ('knew', 1), ('she', 1), ('mine', 1), ('sweethearts', 1), ('started', 1), ('fighting', 1), ('sadder', 1), ('lift', 1), ('high', 1), ('above', 1), ('suddenly', 1), ('nowadays', 1), ('cannot', 1), ('find', 1), ('her', 1), ('brand', 1), ('start', 1), (\"she's\", 1), ('yeah', 1), ('gods', 1), ('mess', 1), ('undo', 1), ('been', 1), ('done', 1), ('run', 1), ('cover', 1), ('better', 1), ('gun', 1), ('dry', 1), ('eyes', 1), ('live', 1), ('tomorrow', 1), ('son', 1), ('others', 1), ('crickets', 1), ('song', 1), ('word', 1), ('sound', 1), ('lifes', 1), ('creation', 1), ('worms', 1), ('butterflies', 1), ('wake', 1), ('appreciation', 1), ('side', 1), ('followed', 1), ('foundation', 1), ('red', 1), ('edge', 1), ('shooting', 1), ('star', 1), ('guide', 1), ('face', 1), ('stage', 1), ('past', 1), ('waking', 1), ('rubble', 1), ('walking', 1), ('glass', 1), ('neighbours', 1), ('trouble', 1), ('well', 1), ('passed', 1), ('peering', 1), ('mirror', 1), (\"isn't\", 1), ('stranger', 1), ('getting', 1), ('nearer', 1), ('who', 1), ('person', 1), ('business', 1), ('act', 1), ('witnessed', 1), ('threw', 1), ('anyway', 1), ('wanna', 1), ('bit', 1), ('rest', 1), ('darling', 1), ('stay', 1), ('give', 1), ('shelter', 1), ('safe', 1), ('went', 1), ('everywhere', 1), ('hair', 1), ('bought', 1), ('underwear', 1), (\"they're\", 1), ('wore', 1), (\"'em\", 1), ('porch', 1), ('whether', 1), ('sweet', 1), ('cruel', 1), ('either', 1), ('bad', 1), ('best', 1), ('sometimes', 1), ('sad', 1), ('any', 1), ('set', 1), ('pace', 1), ('fast', 1), ('slow', 1), ('force', 1), ('powerful', 1), ('gravity', 1), ('physics', 1), ('escape', 1), ('welcome', 1), ('boys', 1), ('too', 1), ('much', 1), ('noise', 1), ('teach', 1), ('think', 1), ('forgot', 1), ('teddy', 1), (\"bear's\", 1), ('barbie', 1), ('simon', 1), ('says', 1), ('taking', 1), ('pikachu', 1), ('smartphone', 1), ('shake', 1), ('wedding', 1), ('bells', 1), ('money', 1), ('man', 1), ('bling-bling', 1), ('stefa', 1), ('t-t-t-take', 1), ('w-w-w-with', 1)]\n"
     ]
    }
   ],
   "source": [
    "print(sorted(word2nb.items(), key=lambda x: x[1], reverse=True))"
   ]
  },
  {
   "cell_type": "code",
   "execution_count": 89,
   "metadata": {},
   "outputs": [],
   "source": [
    "data=sorted(word2nb.items(), key=lambda x: x[1], reverse=True)\n",
    "with open('words2nb.csv', 'w', newline='') as file:\n",
    "    writer = csv.writer(file)\n",
    "    for elt in data :\n",
    "        writer.writerow([elt[0],elt[1]])"
   ]
  }
 ],
 "metadata": {
  "kernelspec": {
   "display_name": "Python 3",
   "language": "python",
   "name": "python3"
  },
  "language_info": {
   "codemirror_mode": {
    "name": "ipython",
    "version": 3
   },
   "file_extension": ".py",
   "mimetype": "text/x-python",
   "name": "python",
   "nbconvert_exporter": "python",
   "pygments_lexer": "ipython3",
   "version": "3.6.8"
  }
 },
 "nbformat": 4,
 "nbformat_minor": 2
}